{
 "cells": [
  {
   "cell_type": "markdown",
   "metadata": {},
   "source": [
    "# Загрузка библиотек"
   ]
  },
  {
   "cell_type": "code",
   "execution_count": null,
   "metadata": {},
   "outputs": [
    {
     "name": "stderr",
     "output_type": "stream",
     "text": [
      "/home/ubuntu/.cache/pypoetry/virtualenvs/markupclassification-_GlTHi5g-py3.9/lib/python3.9/site-packages/tqdm/auto.py:21: TqdmWarning: IProgress not found. Please update jupyter and ipywidgets. See https://ipywidgets.readthedocs.io/en/stable/user_install.html\n",
      "  from .autonotebook import tqdm as notebook_tqdm\n"
     ]
    }
   ],
   "source": [
    "import os\n",
    "import json\n",
    "\n",
    "import numpy as np\n",
    "\n",
    "from glob import glob\n",
    "from transformers import MarkupLMFeatureExtractor, MarkupLMProcessor, MarkupLMForTokenClassification\n",
    "from bs4 import BeautifulSoup\n",
    "from torch.utils.data import Dataset, random_split, DataLoader\n",
    "from tqdm import tqdm"
   ]
  },
  {
   "cell_type": "markdown",
   "metadata": {},
   "source": [
    "# Configuration"
   ]
  },
  {
   "cell_type": "code",
   "execution_count": null,
   "metadata": {},
   "outputs": [],
   "source": [
    "batch_size = 50\n",
    "\n",
    "allowed_labels = [\"title\", \"short_text\", \"date\", \"time\", \"tag\", \"short_title\", \"author\"]\n",
    "\n",
    "label2id = {label: idx+1 for idx, label in enumerate(allowed_labels)}\n",
    "label2id[\"OTHER\"] = 0\n",
    "\n",
    "id2label = {idx+1: label for idx, label in enumerate(allowed_labels)}\n",
    "id2label[0] = \"OTHER\""
   ]
  },
  {
   "cell_type": "markdown",
   "metadata": {},
   "source": [
    "# Загрузка данных"
   ]
  },
  {
   "cell_type": "code",
   "execution_count": null,
   "metadata": {},
   "outputs": [],
   "source": [
    "def load_from_folder(folder_path : str):\n",
    "    '''\n",
    "        This function loading all json files from folder.\n",
    "        Each file contains dict with labels and its values.\n",
    "        Each file must contains \"html\" label with its html code. \n",
    "        Each file must contains \"xpaths\" label with its labeled xpaths list. \n",
    "        \n",
    "    '''\n",
    "    extractor = MarkupLMFeatureExtractor()\n",
    "    \n",
    "    folder_path = os.path.abspath(folder_path)\n",
    "    files_path = glob(os.path.join(folder_path, \"*.json\"))\n",
    "    \n",
    "    data = []\n",
    "    \n",
    "    for file_path in tqdm(files_path):\n",
    "        print(file_path)\n",
    "        with open(file_path) as file:\n",
    "            info = json.load(file)\n",
    "            \n",
    "        html = info[\"html\"]\n",
    "        labeled_xpaths = info[\"labeled_xpaths\"]\n",
    "\n",
    "        encoding = extractor(html)\n",
    "            \n",
    "        \n",
    "        labels = []\n",
    "        for xpath in encoding[\"xpaths\"][0]:\n",
    "            if xpath in labeled_xpaths:\n",
    "                labels.append(label2id[labeled_xpaths[xpath]])\n",
    "            else:\n",
    "                labels.append(0)\n",
    "\n",
    "\n",
    "        # print(len(labels))\n",
    "        # print([_ for _ in labels if _ != 0])\n",
    "        \n",
    "        if (len([_ for _ in labels if _ != 0]) == 0):\n",
    "            print(file_path)\n",
    "        \n",
    "        labels = [labels]\n",
    "        # print(len(encoding['nodes'][0]), len(encoding['xpaths'][0]), len(labels[0]))\n",
    "        data.append({'nodes': encoding['nodes'],\n",
    "                     'xpaths': encoding['xpaths'],\n",
    "                     'node_labels': labels,\n",
    "                     'html': html})\n",
    "        \n",
    "    return data\n",
    "    "
   ]
  },
  {
   "cell_type": "code",
   "execution_count": null,
   "metadata": {},
   "outputs": [
    {
     "name": "stderr",
     "output_type": "stream",
     "text": [
      "  0%|          | 0/1980 [00:00<?, ?it/s]"
     ]
    },
    {
     "name": "stdout",
     "output_type": "stream",
     "text": [
      "/home/ubuntu/Documents/MarkupClassification/test_dataset/train_part/24tnews.ru_80.json\n"
     ]
    },
    {
     "name": "stderr",
     "output_type": "stream",
     "text": [
      "  0%|          | 1/1980 [00:14<7:56:38, 14.45s/it]"
     ]
    },
    {
     "name": "stdout",
     "output_type": "stream",
     "text": [
      "/home/ubuntu/Documents/MarkupClassification/test_dataset/train_part/piter98.ru_24.json\n"
     ]
    },
    {
     "name": "stderr",
     "output_type": "stream",
     "text": [
      "  0%|          | 2/1980 [00:14<3:19:15,  6.04s/it]"
     ]
    },
    {
     "name": "stdout",
     "output_type": "stream",
     "text": [
      "/home/ubuntu/Documents/MarkupClassification/test_dataset/train_part/kubnews.ru_213.json\n"
     ]
    },
    {
     "name": "stderr",
     "output_type": "stream",
     "text": [
      "  0%|          | 3/1980 [00:14<1:50:53,  3.37s/it]"
     ]
    },
    {
     "name": "stdout",
     "output_type": "stream",
     "text": [
      "/home/ubuntu/Documents/MarkupClassification/test_dataset/train_part/freedom-news.ru_105.json\n"
     ]
    },
    {
     "name": "stderr",
     "output_type": "stream",
     "text": [
      "  0%|          | 4/1980 [00:15<1:10:00,  2.13s/it]"
     ]
    },
    {
     "name": "stdout",
     "output_type": "stream",
     "text": [
      "/home/ubuntu/Documents/MarkupClassification/test_dataset/train_part/ug.ru_40.json\n"
     ]
    },
    {
     "name": "stderr",
     "output_type": "stream",
     "text": [
      "  0%|          | 5/1980 [00:15<49:00,  1.49s/it]  "
     ]
    },
    {
     "name": "stdout",
     "output_type": "stream",
     "text": [
      "/home/ubuntu/Documents/MarkupClassification/test_dataset/train_part/rk.karelia.ru_76.json\n"
     ]
    },
    {
     "name": "stderr",
     "output_type": "stream",
     "text": [
      "  0%|          | 6/1980 [00:15<34:58,  1.06s/it]"
     ]
    },
    {
     "name": "stdout",
     "output_type": "stream",
     "text": [
      "/home/ubuntu/Documents/MarkupClassification/test_dataset/train_part/v102.ru_238.json\n"
     ]
    },
    {
     "name": "stderr",
     "output_type": "stream",
     "text": [
      "  0%|          | 7/1980 [00:16<31:09,  1.06it/s]"
     ]
    },
    {
     "name": "stdout",
     "output_type": "stream",
     "text": [
      "/home/ubuntu/Documents/MarkupClassification/test_dataset/train_part/politcentr.ru_0.json\n"
     ]
    },
    {
     "name": "stderr",
     "output_type": "stream",
     "text": [
      "  0%|          | 9/1980 [00:16<18:28,  1.78it/s]"
     ]
    },
    {
     "name": "stdout",
     "output_type": "stream",
     "text": [
      "/home/ubuntu/Documents/MarkupClassification/test_dataset/train_part/ncrim.ru_109.json\n",
      "/home/ubuntu/Documents/MarkupClassification/test_dataset/train_part/www.penzainform.ru_120.json\n"
     ]
    },
    {
     "name": "stderr",
     "output_type": "stream",
     "text": [
      "  1%|          | 10/1980 [00:17<16:44,  1.96it/s]"
     ]
    },
    {
     "name": "stdout",
     "output_type": "stream",
     "text": [
      "/home/ubuntu/Documents/MarkupClassification/test_dataset/train_part/freedom-news.ru_23.json\n"
     ]
    },
    {
     "name": "stderr",
     "output_type": "stream",
     "text": [
      "  1%|          | 11/1980 [00:17<14:12,  2.31it/s]"
     ]
    },
    {
     "name": "stdout",
     "output_type": "stream",
     "text": [
      "/home/ubuntu/Documents/MarkupClassification/test_dataset/train_part/www.gtrk-vyatka.ru_298.json\n"
     ]
    },
    {
     "name": "stderr",
     "output_type": "stream",
     "text": [
      "  1%|          | 12/1980 [00:17<14:23,  2.28it/s]"
     ]
    },
    {
     "name": "stdout",
     "output_type": "stream",
     "text": [
      "/home/ubuntu/Documents/MarkupClassification/test_dataset/train_part/gazeta-vp.ru_28.json\n"
     ]
    },
    {
     "name": "stderr",
     "output_type": "stream",
     "text": [
      "  1%|          | 14/1980 [00:18<10:56,  2.99it/s]"
     ]
    },
    {
     "name": "stdout",
     "output_type": "stream",
     "text": [
      "/home/ubuntu/Documents/MarkupClassification/test_dataset/train_part/leninogorsk-rt.ru_10.json\n"
     ]
    },
    {
     "name": "stderr",
     "output_type": "stream",
     "text": [
      "  1%|          | 15/1980 [00:18<08:53,  3.68it/s]"
     ]
    },
    {
     "name": "stdout",
     "output_type": "stream",
     "text": [
      "/home/ubuntu/Documents/MarkupClassification/test_dataset/train_part/buzdyaknews.ru_34.json\n",
      "/home/ubuntu/Documents/MarkupClassification/test_dataset/train_part/pnz.ru_21.json\n"
     ]
    },
    {
     "name": "stderr",
     "output_type": "stream",
     "text": [
      "  1%|          | 16/1980 [00:18<07:28,  4.38it/s]"
     ]
    },
    {
     "name": "stdout",
     "output_type": "stream",
     "text": [
      "/home/ubuntu/Documents/MarkupClassification/test_dataset/train_part/gorodkovrov.ru_48.json\n"
     ]
    },
    {
     "name": "stderr",
     "output_type": "stream",
     "text": [
      "  1%|          | 17/1980 [00:18<08:03,  4.06it/s]"
     ]
    },
    {
     "name": "stdout",
     "output_type": "stream",
     "text": [
      "/home/ubuntu/Documents/MarkupClassification/test_dataset/train_part/www.infpol.ru_38.json\n"
     ]
    },
    {
     "name": "stderr",
     "output_type": "stream",
     "text": [
      "  1%|          | 19/1980 [00:19<06:36,  4.95it/s]"
     ]
    },
    {
     "name": "stdout",
     "output_type": "stream",
     "text": [
      "/home/ubuntu/Documents/MarkupClassification/test_dataset/train_part/svetput.ru_67.json\n",
      "/home/ubuntu/Documents/MarkupClassification/test_dataset/train_part/rabochy-put.ru_61.json\n"
     ]
    },
    {
     "name": "stderr",
     "output_type": "stream",
     "text": [
      "  1%|          | 21/1980 [00:19<05:42,  5.72it/s]"
     ]
    },
    {
     "name": "stdout",
     "output_type": "stream",
     "text": [
      "/home/ubuntu/Documents/MarkupClassification/test_dataset/train_part/cheb-live.ru_1.json\n",
      "/home/ubuntu/Documents/MarkupClassification/test_dataset/train_part/citysakh.ru_41.json\n"
     ]
    },
    {
     "name": "stderr",
     "output_type": "stream",
     "text": [
      "  1%|          | 22/1980 [00:19<06:28,  5.05it/s]"
     ]
    },
    {
     "name": "stdout",
     "output_type": "stream",
     "text": [
      "/home/ubuntu/Documents/MarkupClassification/test_dataset/train_part/www.amic.ru_24.json\n"
     ]
    },
    {
     "name": "stderr",
     "output_type": "stream",
     "text": [
      "  1%|          | 23/1980 [00:20<07:33,  4.32it/s]"
     ]
    },
    {
     "name": "stdout",
     "output_type": "stream",
     "text": [
      "/home/ubuntu/Documents/MarkupClassification/test_dataset/train_part/gazeta-vp.ru_73.json\n"
     ]
    },
    {
     "name": "stderr",
     "output_type": "stream",
     "text": [
      "  1%|          | 24/1980 [00:20<08:01,  4.06it/s]"
     ]
    },
    {
     "name": "stdout",
     "output_type": "stream",
     "text": [
      "/home/ubuntu/Documents/MarkupClassification/test_dataset/train_part/piter98.ru_201.json\n"
     ]
    },
    {
     "name": "stderr",
     "output_type": "stream",
     "text": [
      "  1%|▏         | 25/1980 [00:20<07:55,  4.11it/s]"
     ]
    },
    {
     "name": "stdout",
     "output_type": "stream",
     "text": [
      "/home/ubuntu/Documents/MarkupClassification/test_dataset/train_part/bloknot-krasnodar.ru_29.json\n"
     ]
    },
    {
     "name": "stderr",
     "output_type": "stream",
     "text": [
      "  1%|▏         | 26/1980 [00:21<11:14,  2.90it/s]"
     ]
    },
    {
     "name": "stdout",
     "output_type": "stream",
     "text": [
      "/home/ubuntu/Documents/MarkupClassification/test_dataset/train_part/tvtver.ru_31.json\n"
     ]
    },
    {
     "name": "stderr",
     "output_type": "stream",
     "text": [
      "  1%|▏         | 28/1980 [00:22<14:18,  2.27it/s]"
     ]
    },
    {
     "name": "stdout",
     "output_type": "stream",
     "text": [
      "/home/ubuntu/Documents/MarkupClassification/test_dataset/train_part/rabochy-put.ru_57.json\n"
     ]
    },
    {
     "name": "stderr",
     "output_type": "stream",
     "text": [
      "  1%|▏         | 29/1980 [00:22<11:00,  2.95it/s]"
     ]
    },
    {
     "name": "stdout",
     "output_type": "stream",
     "text": [
      "/home/ubuntu/Documents/MarkupClassification/test_dataset/train_part/bst.bratsk.ru_38.json\n",
      "/home/ubuntu/Documents/MarkupClassification/test_dataset/train_part/sarnovosti.ru_29.json\n",
      "/home/ubuntu/Documents/MarkupClassification/test_dataset/train_part/rk.karelia.ru_163.json\n"
     ]
    },
    {
     "name": "stderr",
     "output_type": "stream",
     "text": [
      "  2%|▏         | 32/1980 [00:22<06:56,  4.67it/s]"
     ]
    },
    {
     "name": "stdout",
     "output_type": "stream",
     "text": [
      "/home/ubuntu/Documents/MarkupClassification/test_dataset/train_part/vz.ru_21.json\n",
      "/home/ubuntu/Documents/MarkupClassification/test_dataset/train_part/bloknot-krasnodar.ru_61.json\n"
     ]
    },
    {
     "name": "stderr",
     "output_type": "stream",
     "text": [
      "  2%|▏         | 34/1980 [00:23<07:09,  4.54it/s]"
     ]
    },
    {
     "name": "stdout",
     "output_type": "stream",
     "text": [
      "/home/ubuntu/Documents/MarkupClassification/test_dataset/train_part/gazeta-vp.ru_123.json\n",
      "/home/ubuntu/Documents/MarkupClassification/test_dataset/train_part/www.smolensk2.ru_55.json\n"
     ]
    },
    {
     "name": "stderr",
     "output_type": "stream",
     "text": [
      "  2%|▏         | 36/1980 [00:23<06:22,  5.08it/s]"
     ]
    },
    {
     "name": "stdout",
     "output_type": "stream",
     "text": [
      "/home/ubuntu/Documents/MarkupClassification/test_dataset/train_part/rk.karelia.ru_136.json\n",
      "/home/ubuntu/Documents/MarkupClassification/test_dataset/train_part/askino.info_16.json\n",
      "/home/ubuntu/Documents/MarkupClassification/test_dataset/train_part/www.kommersant.ru_24.json\n"
     ]
    },
    {
     "name": "stderr",
     "output_type": "stream",
     "text": [
      "  2%|▏         | 38/1980 [00:24<05:51,  5.53it/s]"
     ]
    },
    {
     "name": "stdout",
     "output_type": "stream",
     "text": [
      "/home/ubuntu/Documents/MarkupClassification/test_dataset/train_part/www.e1.ru_382.json\n"
     ]
    },
    {
     "name": "stderr",
     "output_type": "stream",
     "text": [
      "  2%|▏         | 40/1980 [00:24<08:27,  3.82it/s]"
     ]
    },
    {
     "name": "stdout",
     "output_type": "stream",
     "text": [
      "/home/ubuntu/Documents/MarkupClassification/test_dataset/train_part/tkgorod.ru_288.json\n",
      "/home/ubuntu/Documents/MarkupClassification/test_dataset/train_part/ntr-24.ru_158.json\n"
     ]
    },
    {
     "name": "stderr",
     "output_type": "stream",
     "text": [
      "  2%|▏         | 41/1980 [00:25<09:54,  3.26it/s]"
     ]
    },
    {
     "name": "stdout",
     "output_type": "stream",
     "text": [
      "/home/ubuntu/Documents/MarkupClassification/test_dataset/train_part/perm.aif.ru_135.json\n"
     ]
    },
    {
     "name": "stderr",
     "output_type": "stream",
     "text": [
      "  2%|▏         | 42/1980 [00:25<10:16,  3.14it/s]"
     ]
    },
    {
     "name": "stdout",
     "output_type": "stream",
     "text": [
      "/home/ubuntu/Documents/MarkupClassification/test_dataset/train_part/freedom-news.ru_182.json\n"
     ]
    },
    {
     "name": "stderr",
     "output_type": "stream",
     "text": [
      "  2%|▏         | 43/1980 [00:25<09:28,  3.40it/s]"
     ]
    },
    {
     "name": "stdout",
     "output_type": "stream",
     "text": [
      "/home/ubuntu/Documents/MarkupClassification/test_dataset/train_part/a24.press_85.json\n",
      "/home/ubuntu/Documents/MarkupClassification/test_dataset/train_part/www.e1.ru_64.json\n"
     ]
    },
    {
     "name": "stderr",
     "output_type": "stream",
     "text": [
      "  2%|▏         | 46/1980 [00:26<07:16,  4.43it/s]"
     ]
    },
    {
     "name": "stdout",
     "output_type": "stream",
     "text": [
      "/home/ubuntu/Documents/MarkupClassification/test_dataset/train_part/tv-gubernia.ru_9.json\n",
      "/home/ubuntu/Documents/MarkupClassification/test_dataset/train_part/nokstv.ru_47.json\n"
     ]
    },
    {
     "name": "stderr",
     "output_type": "stream",
     "text": [
      "  2%|▏         | 47/1980 [00:27<11:25,  2.82it/s]"
     ]
    },
    {
     "name": "stdout",
     "output_type": "stream",
     "text": [
      "/home/ubuntu/Documents/MarkupClassification/test_dataset/train_part/v102.ru_216.json\n"
     ]
    },
    {
     "name": "stderr",
     "output_type": "stream",
     "text": [
      "  3%|▎         | 50/1980 [00:27<06:51,  4.69it/s]"
     ]
    },
    {
     "name": "stdout",
     "output_type": "stream",
     "text": [
      "/home/ubuntu/Documents/MarkupClassification/test_dataset/train_part/ufa-town.ru_102.json\n",
      "/home/ubuntu/Documents/MarkupClassification/test_dataset/train_part/a24.press_154.json\n",
      "/home/ubuntu/Documents/MarkupClassification/test_dataset/train_part/ufatime.ru_94.json\n"
     ]
    },
    {
     "name": "stderr",
     "output_type": "stream",
     "text": [
      "  3%|▎         | 51/1980 [00:27<06:15,  5.14it/s]"
     ]
    },
    {
     "name": "stdout",
     "output_type": "stream",
     "text": [
      "/home/ubuntu/Documents/MarkupClassification/test_dataset/train_part/pnz.ru_124.json\n",
      "/home/ubuntu/Documents/MarkupClassification/test_dataset/train_part/www.mordovmedia.ru_15.json\n"
     ]
    },
    {
     "name": "stderr",
     "output_type": "stream",
     "text": [
      "  3%|▎         | 54/1980 [00:28<06:12,  5.17it/s]"
     ]
    },
    {
     "name": "stdout",
     "output_type": "stream",
     "text": [
      "/home/ubuntu/Documents/MarkupClassification/test_dataset/train_part/gorodkirov.ru_36.json\n",
      "/home/ubuntu/Documents/MarkupClassification/test_dataset/train_part/nokstv.ru_60.json\n"
     ]
    },
    {
     "name": "stderr",
     "output_type": "stream",
     "text": [
      "  3%|▎         | 56/1980 [00:29<12:33,  2.55it/s]"
     ]
    },
    {
     "name": "stdout",
     "output_type": "stream",
     "text": [
      "/home/ubuntu/Documents/MarkupClassification/test_dataset/train_part/tkgorod.ru_34.json\n",
      "/home/ubuntu/Documents/MarkupClassification/test_dataset/train_part/62info.ru_43.json\n"
     ]
    },
    {
     "name": "stderr",
     "output_type": "stream",
     "text": [
      "  3%|▎         | 57/1980 [00:29<10:50,  2.96it/s]"
     ]
    },
    {
     "name": "stdout",
     "output_type": "stream",
     "text": [
      "/home/ubuntu/Documents/MarkupClassification/test_dataset/train_part/ya62.ru_342.json\n"
     ]
    },
    {
     "name": "stderr",
     "output_type": "stream",
     "text": [
      "  3%|▎         | 58/1980 [00:31<19:48,  1.62it/s]"
     ]
    },
    {
     "name": "stdout",
     "output_type": "stream",
     "text": [
      "/home/ubuntu/Documents/MarkupClassification/test_dataset/train_part/ptzgovorit.ru_56.json\n"
     ]
    },
    {
     "name": "stderr",
     "output_type": "stream",
     "text": [
      "  3%|▎         | 59/1980 [00:31<17:31,  1.83it/s]"
     ]
    },
    {
     "name": "stdout",
     "output_type": "stream",
     "text": [
      "/home/ubuntu/Documents/MarkupClassification/test_dataset/train_part/vz.ru_35.json\n"
     ]
    },
    {
     "name": "stderr",
     "output_type": "stream",
     "text": [
      "  3%|▎         | 60/1980 [00:32<16:32,  1.93it/s]"
     ]
    },
    {
     "name": "stdout",
     "output_type": "stream",
     "text": [
      "/home/ubuntu/Documents/MarkupClassification/test_dataset/train_part/moe-online.ru_47.json\n"
     ]
    },
    {
     "name": "stderr",
     "output_type": "stream",
     "text": [
      "  3%|▎         | 62/1980 [00:32<13:04,  2.44it/s]"
     ]
    },
    {
     "name": "stdout",
     "output_type": "stream",
     "text": [
      "/home/ubuntu/Documents/MarkupClassification/test_dataset/train_part/kaltasy-zarya.ru_55.json\n",
      "/home/ubuntu/Documents/MarkupClassification/test_dataset/train_part/chistopol-rt.ru_25.json\n"
     ]
    },
    {
     "name": "stderr",
     "output_type": "stream",
     "text": [
      "  3%|▎         | 63/1980 [00:33<11:12,  2.85it/s]"
     ]
    },
    {
     "name": "stdout",
     "output_type": "stream",
     "text": [
      "/home/ubuntu/Documents/MarkupClassification/test_dataset/train_part/primamedia.ru_152.json\n"
     ]
    },
    {
     "name": "stderr",
     "output_type": "stream",
     "text": [
      "  3%|▎         | 65/1980 [00:33<08:32,  3.74it/s]"
     ]
    },
    {
     "name": "stdout",
     "output_type": "stream",
     "text": [
      "/home/ubuntu/Documents/MarkupClassification/test_dataset/train_part/a24.press_141.json\n",
      "/home/ubuntu/Documents/MarkupClassification/test_dataset/train_part/tvernews.ru_55.json\n"
     ]
    },
    {
     "name": "stderr",
     "output_type": "stream",
     "text": [
      "  3%|▎         | 66/1980 [00:33<07:52,  4.05it/s]"
     ]
    },
    {
     "name": "stdout",
     "output_type": "stream",
     "text": [
      "/home/ubuntu/Documents/MarkupClassification/test_dataset/train_part/kineshemec.ru_0.json\n"
     ]
    },
    {
     "name": "stderr",
     "output_type": "stream",
     "text": [
      "  3%|▎         | 67/1980 [00:34<10:19,  3.09it/s]"
     ]
    },
    {
     "name": "stdout",
     "output_type": "stream",
     "text": [
      "/home/ubuntu/Documents/MarkupClassification/test_dataset/train_part/rusvesna.su_4.json\n"
     ]
    },
    {
     "name": "stderr",
     "output_type": "stream",
     "text": [
      "  3%|▎         | 69/1980 [00:34<09:37,  3.31it/s]"
     ]
    },
    {
     "name": "stdout",
     "output_type": "stream",
     "text": [
      "/home/ubuntu/Documents/MarkupClassification/test_dataset/train_part/1tulatv.ru_22.json\n",
      "/home/ubuntu/Documents/MarkupClassification/test_dataset/train_part/primamedia.ru_61.json\n"
     ]
    },
    {
     "name": "stderr",
     "output_type": "stream",
     "text": [
      "  4%|▎         | 70/1980 [00:35<09:16,  3.43it/s]"
     ]
    },
    {
     "name": "stdout",
     "output_type": "stream",
     "text": [
      "/home/ubuntu/Documents/MarkupClassification/test_dataset/train_part/yanzori.com_21.json\n",
      "/home/ubuntu/Documents/MarkupClassification/test_dataset/train_part/rabochy-put.ru_23.json\n"
     ]
    },
    {
     "name": "stderr",
     "output_type": "stream",
     "text": [
      "  4%|▎         | 72/1980 [00:35<07:17,  4.37it/s]"
     ]
    },
    {
     "name": "stdout",
     "output_type": "stream",
     "text": [
      "/home/ubuntu/Documents/MarkupClassification/test_dataset/train_part/politcentr.ru_55.json\n"
     ]
    },
    {
     "name": "stderr",
     "output_type": "stream",
     "text": [
      "  4%|▎         | 73/1980 [00:35<08:17,  3.83it/s]"
     ]
    },
    {
     "name": "stdout",
     "output_type": "stream",
     "text": [
      "/home/ubuntu/Documents/MarkupClassification/test_dataset/train_part/tverigrad.ru_156.json\n"
     ]
    },
    {
     "name": "stderr",
     "output_type": "stream",
     "text": [
      "  4%|▎         | 74/1980 [00:36<10:00,  3.17it/s]"
     ]
    },
    {
     "name": "stdout",
     "output_type": "stream",
     "text": [
      "/home/ubuntu/Documents/MarkupClassification/test_dataset/train_part/v102.ru_298.json\n"
     ]
    },
    {
     "name": "stderr",
     "output_type": "stream",
     "text": [
      "  4%|▍         | 76/1980 [00:37<11:03,  2.87it/s]"
     ]
    },
    {
     "name": "stdout",
     "output_type": "stream",
     "text": [
      "/home/ubuntu/Documents/MarkupClassification/test_dataset/train_part/tkgorod.ru_306.json\n",
      "/home/ubuntu/Documents/MarkupClassification/test_dataset/train_part/svpressa.ru_24.json\n"
     ]
    },
    {
     "name": "stderr",
     "output_type": "stream",
     "text": [
      "  4%|▍         | 78/1980 [00:37<08:22,  3.78it/s]"
     ]
    },
    {
     "name": "stdout",
     "output_type": "stream",
     "text": [
      "/home/ubuntu/Documents/MarkupClassification/test_dataset/train_part/kaltasy-zarya.ru_18.json\n",
      "/home/ubuntu/Documents/MarkupClassification/test_dataset/train_part/tkgorod.ru_254.json\n"
     ]
    },
    {
     "name": "stderr",
     "output_type": "stream",
     "text": [
      "  4%|▍         | 79/1980 [00:37<08:03,  3.94it/s]"
     ]
    },
    {
     "name": "stdout",
     "output_type": "stream",
     "text": [
      "/home/ubuntu/Documents/MarkupClassification/test_dataset/train_part/vrn.aif.ru_101.json\n"
     ]
    },
    {
     "name": "stderr",
     "output_type": "stream",
     "text": [
      "  4%|▍         | 80/1980 [00:37<09:02,  3.50it/s]"
     ]
    },
    {
     "name": "stdout",
     "output_type": "stream",
     "text": [
      "/home/ubuntu/Documents/MarkupClassification/test_dataset/train_part/1prime.ru_60.json\n"
     ]
    },
    {
     "name": "stderr",
     "output_type": "stream",
     "text": [
      "  4%|▍         | 81/1980 [00:38<10:10,  3.11it/s]"
     ]
    },
    {
     "name": "stdout",
     "output_type": "stream",
     "text": [
      "/home/ubuntu/Documents/MarkupClassification/test_dataset/train_part/ulpressa.ru_3.json\n"
     ]
    },
    {
     "name": "stderr",
     "output_type": "stream",
     "text": [
      "  4%|▍         | 83/1980 [00:38<08:23,  3.76it/s]"
     ]
    },
    {
     "name": "stdout",
     "output_type": "stream",
     "text": [
      "/home/ubuntu/Documents/MarkupClassification/test_dataset/train_part/freedom-news.ru_112.json\n",
      "/home/ubuntu/Documents/MarkupClassification/test_dataset/train_part/ndn.info_112.json\n"
     ]
    },
    {
     "name": "stderr",
     "output_type": "stream",
     "text": [
      "  4%|▍         | 85/1980 [00:39<08:04,  3.91it/s]"
     ]
    },
    {
     "name": "stdout",
     "output_type": "stream",
     "text": [
      "/home/ubuntu/Documents/MarkupClassification/test_dataset/train_part/bst.bratsk.ru_26.json\n",
      "/home/ubuntu/Documents/MarkupClassification/test_dataset/train_part/rk.karelia.ru_33.json\n"
     ]
    },
    {
     "name": "stderr",
     "output_type": "stream",
     "text": [
      "  4%|▍         | 86/1980 [00:39<07:30,  4.21it/s]"
     ]
    },
    {
     "name": "stdout",
     "output_type": "stream",
     "text": [
      "/home/ubuntu/Documents/MarkupClassification/test_dataset/train_part/ura.news_25.json\n"
     ]
    },
    {
     "name": "stderr",
     "output_type": "stream",
     "text": [
      "  4%|▍         | 87/1980 [00:40<09:45,  3.23it/s]"
     ]
    },
    {
     "name": "stdout",
     "output_type": "stream",
     "text": [
      "/home/ubuntu/Documents/MarkupClassification/test_dataset/train_part/tverigrad.ru_78.json\n"
     ]
    },
    {
     "name": "stderr",
     "output_type": "stream",
     "text": [
      "  4%|▍         | 88/1980 [00:40<11:34,  2.73it/s]"
     ]
    },
    {
     "name": "stdout",
     "output_type": "stream",
     "text": [
      "/home/ubuntu/Documents/MarkupClassification/test_dataset/train_part/v102.ru_133.json\n"
     ]
    },
    {
     "name": "stderr",
     "output_type": "stream",
     "text": [
      "  4%|▍         | 89/1980 [00:41<13:17,  2.37it/s]"
     ]
    },
    {
     "name": "stdout",
     "output_type": "stream",
     "text": [
      "/home/ubuntu/Documents/MarkupClassification/test_dataset/train_part/ntr-24.ru_45.json\n"
     ]
    },
    {
     "name": "stderr",
     "output_type": "stream",
     "text": [
      "  5%|▍         | 90/1980 [00:41<13:12,  2.38it/s]"
     ]
    },
    {
     "name": "stdout",
     "output_type": "stream",
     "text": [
      "/home/ubuntu/Documents/MarkupClassification/test_dataset/train_part/ulpressa.ru_131.json\n"
     ]
    },
    {
     "name": "stderr",
     "output_type": "stream",
     "text": [
      "  5%|▍         | 91/1980 [00:41<11:39,  2.70it/s]"
     ]
    },
    {
     "name": "stdout",
     "output_type": "stream",
     "text": [
      "/home/ubuntu/Documents/MarkupClassification/test_dataset/train_part/www.smolensk2.ru_102.json\n"
     ]
    },
    {
     "name": "stderr",
     "output_type": "stream",
     "text": [
      "  5%|▍         | 93/1980 [00:42<09:37,  3.27it/s]"
     ]
    },
    {
     "name": "stdout",
     "output_type": "stream",
     "text": [
      "/home/ubuntu/Documents/MarkupClassification/test_dataset/train_part/www.bashinform.ru_5.json\n",
      "/home/ubuntu/Documents/MarkupClassification/test_dataset/train_part/piter98.ru_123.json\n"
     ]
    },
    {
     "name": "stderr",
     "output_type": "stream",
     "text": [
      "  5%|▍         | 95/1980 [00:42<07:12,  4.36it/s]"
     ]
    },
    {
     "name": "stdout",
     "output_type": "stream",
     "text": [
      "/home/ubuntu/Documents/MarkupClassification/test_dataset/train_part/kaltasy-zarya.ru_112.json\n",
      "/home/ubuntu/Documents/MarkupClassification/test_dataset/train_part/gorobzor.ru_157.json\n"
     ]
    },
    {
     "name": "stderr",
     "output_type": "stream",
     "text": [
      "  5%|▍         | 97/1980 [00:43<06:54,  4.54it/s]"
     ]
    },
    {
     "name": "stdout",
     "output_type": "stream",
     "text": [
      "/home/ubuntu/Documents/MarkupClassification/test_dataset/train_part/okt-neft.ru_163.json\n",
      "/home/ubuntu/Documents/MarkupClassification/test_dataset/train_part/www.gtrk-vyatka.ru_288.json\n"
     ]
    },
    {
     "name": "stderr",
     "output_type": "stream",
     "text": [
      "  5%|▍         | 98/1980 [00:43<08:50,  3.55it/s]"
     ]
    },
    {
     "name": "stdout",
     "output_type": "stream",
     "text": [
      "/home/ubuntu/Documents/MarkupClassification/test_dataset/train_part/rk.karelia.ru_77.json\n"
     ]
    },
    {
     "name": "stderr",
     "output_type": "stream",
     "text": [
      "  5%|▌         | 100/1980 [00:43<07:28,  4.19it/s]"
     ]
    },
    {
     "name": "stdout",
     "output_type": "stream",
     "text": [
      "/home/ubuntu/Documents/MarkupClassification/test_dataset/train_part/pnz.ru_128.json\n",
      "/home/ubuntu/Documents/MarkupClassification/test_dataset/train_part/tverigrad.ru_162.json\n"
     ]
    },
    {
     "name": "stderr",
     "output_type": "stream",
     "text": [
      "  5%|▌         | 101/1980 [00:44<09:41,  3.23it/s]"
     ]
    },
    {
     "name": "stdout",
     "output_type": "stream",
     "text": [
      "/home/ubuntu/Documents/MarkupClassification/test_dataset/train_part/politcentr.ru_28.json\n"
     ]
    },
    {
     "name": "stderr",
     "output_type": "stream",
     "text": [
      "  5%|▌         | 102/1980 [00:44<09:20,  3.35it/s]"
     ]
    },
    {
     "name": "stdout",
     "output_type": "stream",
     "text": [
      "/home/ubuntu/Documents/MarkupClassification/test_dataset/train_part/www.dp.ru_34.json\n"
     ]
    },
    {
     "name": "stderr",
     "output_type": "stream",
     "text": [
      "  5%|▌         | 103/1980 [00:44<09:08,  3.42it/s]"
     ]
    },
    {
     "name": "stdout",
     "output_type": "stream",
     "text": [
      "/home/ubuntu/Documents/MarkupClassification/test_dataset/train_part/freedom-news.ru_191.json\n"
     ]
    },
    {
     "name": "stderr",
     "output_type": "stream",
     "text": [
      "  5%|▌         | 104/1980 [00:45<08:56,  3.50it/s]"
     ]
    },
    {
     "name": "stdout",
     "output_type": "stream",
     "text": [
      "/home/ubuntu/Documents/MarkupClassification/test_dataset/train_part/7info.ru_81.json\n"
     ]
    },
    {
     "name": "stderr",
     "output_type": "stream",
     "text": [
      "  5%|▌         | 106/1980 [00:45<07:53,  3.96it/s]"
     ]
    },
    {
     "name": "stdout",
     "output_type": "stream",
     "text": [
      "/home/ubuntu/Documents/MarkupClassification/test_dataset/train_part/tvknews.ru_35.json\n",
      "/home/ubuntu/Documents/MarkupClassification/test_dataset/train_part/tvtver.ru_201.json\n"
     ]
    },
    {
     "name": "stderr",
     "output_type": "stream",
     "text": [
      "  5%|▌         | 107/1980 [00:46<15:16,  2.04it/s]"
     ]
    },
    {
     "name": "stdout",
     "output_type": "stream",
     "text": [
      "/home/ubuntu/Documents/MarkupClassification/test_dataset/train_part/gorodkovrov.ru_56.json\n"
     ]
    },
    {
     "name": "stderr",
     "output_type": "stream",
     "text": [
      "  6%|▌         | 109/1980 [00:47<10:42,  2.91it/s]"
     ]
    },
    {
     "name": "stdout",
     "output_type": "stream",
     "text": [
      "/home/ubuntu/Documents/MarkupClassification/test_dataset/train_part/qostanay.tv_4.json\n",
      "/home/ubuntu/Documents/MarkupClassification/test_dataset/train_part/76.ru_7.json\n"
     ]
    },
    {
     "name": "stderr",
     "output_type": "stream",
     "text": [
      "  6%|▌         | 111/1980 [00:48<12:20,  2.53it/s]"
     ]
    },
    {
     "name": "stdout",
     "output_type": "stream",
     "text": [
      "/home/ubuntu/Documents/MarkupClassification/test_dataset/train_part/kubnews.ru_88.json\n",
      "/home/ubuntu/Documents/MarkupClassification/test_dataset/train_part/aif.ru_52.json\n"
     ]
    },
    {
     "name": "stderr",
     "output_type": "stream",
     "text": [
      "  6%|▌         | 113/1980 [00:48<10:38,  2.92it/s]"
     ]
    },
    {
     "name": "stdout",
     "output_type": "stream",
     "text": [
      "/home/ubuntu/Documents/MarkupClassification/test_dataset/train_part/www.penzainform.ru_9.json\n",
      "/home/ubuntu/Documents/MarkupClassification/test_dataset/train_part/www.e1.ru_249.json\n"
     ]
    },
    {
     "name": "stderr",
     "output_type": "stream",
     "text": [
      "  6%|▌         | 114/1980 [00:49<13:48,  2.25it/s]"
     ]
    },
    {
     "name": "stdout",
     "output_type": "stream",
     "text": [
      "/home/ubuntu/Documents/MarkupClassification/test_dataset/train_part/ku66.ru_10.json\n"
     ]
    },
    {
     "name": "stderr",
     "output_type": "stream",
     "text": [
      "  6%|▌         | 116/1980 [00:50<10:23,  2.99it/s]"
     ]
    },
    {
     "name": "stdout",
     "output_type": "stream",
     "text": [
      "/home/ubuntu/Documents/MarkupClassification/test_dataset/train_part/svetput.ru_155.json\n",
      "/home/ubuntu/Documents/MarkupClassification/test_dataset/train_part/www.vesti.ru_68.json\n"
     ]
    },
    {
     "name": "stderr",
     "output_type": "stream",
     "text": [
      "  6%|▌         | 117/1980 [00:50<08:53,  3.49it/s]"
     ]
    },
    {
     "name": "stdout",
     "output_type": "stream",
     "text": [
      "/home/ubuntu/Documents/MarkupClassification/test_dataset/train_part/elabuga-rt.ru_21.json\n"
     ]
    },
    {
     "name": "stderr",
     "output_type": "stream",
     "text": [
      "  6%|▌         | 118/1980 [00:50<10:03,  3.09it/s]"
     ]
    },
    {
     "name": "stdout",
     "output_type": "stream",
     "text": [
      "/home/ubuntu/Documents/MarkupClassification/test_dataset/train_part/gorobzor.ru_74.json\n"
     ]
    },
    {
     "name": "stderr",
     "output_type": "stream",
     "text": [
      "  6%|▌         | 120/1980 [00:51<08:35,  3.61it/s]"
     ]
    },
    {
     "name": "stdout",
     "output_type": "stream",
     "text": [
      "/home/ubuntu/Documents/MarkupClassification/test_dataset/train_part/stolica-s.su_51.json\n",
      "/home/ubuntu/Documents/MarkupClassification/test_dataset/train_part/citysakh.ru_26.json\n"
     ]
    },
    {
     "name": "stderr",
     "output_type": "stream",
     "text": [
      "  6%|▌         | 121/1980 [00:51<08:15,  3.75it/s]"
     ]
    },
    {
     "name": "stdout",
     "output_type": "stream",
     "text": [
      "/home/ubuntu/Documents/MarkupClassification/test_dataset/train_part/www.amic.ru_14.json\n"
     ]
    },
    {
     "name": "stderr",
     "output_type": "stream",
     "text": [
      "  6%|▌         | 123/1980 [00:51<06:52,  4.50it/s]"
     ]
    },
    {
     "name": "stdout",
     "output_type": "stream",
     "text": [
      "/home/ubuntu/Documents/MarkupClassification/test_dataset/train_part/ufa-town.ru_107.json\n",
      "/home/ubuntu/Documents/MarkupClassification/test_dataset/train_part/gorobzor.ru_140.json\n"
     ]
    },
    {
     "name": "stderr",
     "output_type": "stream",
     "text": [
      "  6%|▋         | 124/1980 [00:52<07:52,  3.93it/s]"
     ]
    },
    {
     "name": "stdout",
     "output_type": "stream",
     "text": [
      "/home/ubuntu/Documents/MarkupClassification/test_dataset/train_part/v102.ru_43.json\n"
     ]
    },
    {
     "name": "stderr",
     "output_type": "stream",
     "text": [
      "  6%|▋         | 125/1980 [00:52<10:44,  2.88it/s]"
     ]
    },
    {
     "name": "stdout",
     "output_type": "stream",
     "text": [
      "/home/ubuntu/Documents/MarkupClassification/test_dataset/train_part/www.amic.ru_16.json\n"
     ]
    },
    {
     "name": "stderr",
     "output_type": "stream",
     "text": [
      "  6%|▋         | 127/1980 [00:53<09:03,  3.41it/s]"
     ]
    },
    {
     "name": "stdout",
     "output_type": "stream",
     "text": [
      "/home/ubuntu/Documents/MarkupClassification/test_dataset/train_part/tver24.com_35.json\n",
      "/home/ubuntu/Documents/MarkupClassification/test_dataset/train_part/primamedia.ru_195.json\n"
     ]
    },
    {
     "name": "stderr",
     "output_type": "stream",
     "text": [
      "  6%|▋         | 128/1980 [00:53<08:49,  3.49it/s]"
     ]
    },
    {
     "name": "stdout",
     "output_type": "stream",
     "text": [
      "/home/ubuntu/Documents/MarkupClassification/test_dataset/train_part/tv-gubernia.ru_182.json\n"
     ]
    },
    {
     "name": "stderr",
     "output_type": "stream",
     "text": [
      "  7%|▋         | 130/1980 [00:53<07:33,  4.08it/s]"
     ]
    },
    {
     "name": "stdout",
     "output_type": "stream",
     "text": [
      "/home/ubuntu/Documents/MarkupClassification/test_dataset/train_part/battime.ru_34.json\n",
      "/home/ubuntu/Documents/MarkupClassification/test_dataset/train_part/svetput.ru_69.json\n"
     ]
    },
    {
     "name": "stderr",
     "output_type": "stream",
     "text": [
      "  7%|▋         | 131/1980 [00:53<06:26,  4.78it/s]"
     ]
    },
    {
     "name": "stdout",
     "output_type": "stream",
     "text": [
      "/home/ubuntu/Documents/MarkupClassification/test_dataset/train_part/tkgorod.ru_73.json\n"
     ]
    },
    {
     "name": "stderr",
     "output_type": "stream",
     "text": [
      "  7%|▋         | 133/1980 [00:54<05:54,  5.21it/s]"
     ]
    },
    {
     "name": "stdout",
     "output_type": "stream",
     "text": [
      "/home/ubuntu/Documents/MarkupClassification/test_dataset/train_part/strana-live.ru_72.json\n",
      "/home/ubuntu/Documents/MarkupClassification/test_dataset/train_part/ncrim.ru_54.json\n"
     ]
    },
    {
     "name": "stderr",
     "output_type": "stream",
     "text": [
      "  7%|▋         | 135/1980 [00:54<05:00,  6.14it/s]"
     ]
    },
    {
     "name": "stdout",
     "output_type": "stream",
     "text": [
      "/home/ubuntu/Documents/MarkupClassification/test_dataset/train_part/askino.info_70.json\n",
      "/home/ubuntu/Documents/MarkupClassification/test_dataset/train_part/vrn.aif.ru_4.json\n"
     ]
    },
    {
     "name": "stderr",
     "output_type": "stream",
     "text": [
      "  7%|▋         | 136/1980 [00:54<06:42,  4.58it/s]"
     ]
    },
    {
     "name": "stdout",
     "output_type": "stream",
     "text": [
      "/home/ubuntu/Documents/MarkupClassification/test_dataset/train_part/mybashkortostan.ru_9.json\n"
     ]
    },
    {
     "name": "stderr",
     "output_type": "stream",
     "text": [
      "  7%|▋         | 137/1980 [00:55<08:37,  3.56it/s]"
     ]
    },
    {
     "name": "stdout",
     "output_type": "stream",
     "text": [
      "/home/ubuntu/Documents/MarkupClassification/test_dataset/train_part/kaibicy.ru_27.json\n"
     ]
    },
    {
     "name": "stderr",
     "output_type": "stream",
     "text": [
      "  7%|▋         | 138/1980 [00:55<07:56,  3.86it/s]"
     ]
    },
    {
     "name": "stdout",
     "output_type": "stream",
     "text": [
      "/home/ubuntu/Documents/MarkupClassification/test_dataset/train_part/www.kommersant.ru_26.json\n"
     ]
    },
    {
     "name": "stderr",
     "output_type": "stream",
     "text": [
      "  7%|▋         | 141/1980 [00:56<05:53,  5.21it/s]"
     ]
    },
    {
     "name": "stdout",
     "output_type": "stream",
     "text": [
      "/home/ubuntu/Documents/MarkupClassification/test_dataset/train_part/kaluganews.com_22.json\n",
      "/home/ubuntu/Documents/MarkupClassification/test_dataset/train_part/www.e1.ru_197.json\n",
      "/home/ubuntu/Documents/MarkupClassification/test_dataset/train_part/stolica58.ru_19.json\n"
     ]
    },
    {
     "name": "stderr",
     "output_type": "stream",
     "text": [
      "  7%|▋         | 143/1980 [00:56<04:40,  6.55it/s]"
     ]
    },
    {
     "name": "stdout",
     "output_type": "stream",
     "text": [
      "/home/ubuntu/Documents/MarkupClassification/test_dataset/train_part/aksubayevo.ru_13.json\n",
      "/home/ubuntu/Documents/MarkupClassification/test_dataset/train_part/okt-neft.ru_124.json\n",
      "/home/ubuntu/Documents/MarkupClassification/test_dataset/train_part/www.mk.ru_142.json\n"
     ]
    },
    {
     "name": "stderr",
     "output_type": "stream",
     "text": [
      "  7%|▋         | 146/1980 [00:56<05:52,  5.20it/s]"
     ]
    },
    {
     "name": "stdout",
     "output_type": "stream",
     "text": [
      "/home/ubuntu/Documents/MarkupClassification/test_dataset/train_part/gazeta.a42.ru_2.json\n",
      "/home/ubuntu/Documents/MarkupClassification/test_dataset/train_part/www.mordovmedia.ru_7.json\n"
     ]
    },
    {
     "name": "stderr",
     "output_type": "stream",
     "text": [
      "  7%|▋         | 147/1980 [00:57<05:32,  5.52it/s]"
     ]
    },
    {
     "name": "stdout",
     "output_type": "stream",
     "text": [
      "/home/ubuntu/Documents/MarkupClassification/test_dataset/train_part/ufa-town.ru_16.json\n",
      "/home/ubuntu/Documents/MarkupClassification/test_dataset/train_part/tv-gubernia.ru_46.json\n"
     ]
    },
    {
     "name": "stderr",
     "output_type": "stream",
     "text": [
      "  8%|▊         | 149/1980 [00:57<04:42,  6.48it/s]"
     ]
    },
    {
     "name": "stdout",
     "output_type": "stream",
     "text": [
      "/home/ubuntu/Documents/MarkupClassification/test_dataset/train_part/livebir.ru_10.json\n",
      "/home/ubuntu/Documents/MarkupClassification/test_dataset/train_part/politcentr.ru_11.json\n"
     ]
    },
    {
     "name": "stderr",
     "output_type": "stream",
     "text": [
      "  8%|▊         | 151/1980 [00:57<04:42,  6.47it/s]"
     ]
    },
    {
     "name": "stdout",
     "output_type": "stream",
     "text": [
      "/home/ubuntu/Documents/MarkupClassification/test_dataset/train_part/1tulatv.ru_4.json\n"
     ]
    },
    {
     "name": "stderr",
     "output_type": "stream",
     "text": [
      "  8%|▊         | 153/1980 [00:58<05:03,  6.02it/s]"
     ]
    },
    {
     "name": "stdout",
     "output_type": "stream",
     "text": [
      "/home/ubuntu/Documents/MarkupClassification/test_dataset/train_part/pronedra.ru_33.json\n",
      "/home/ubuntu/Documents/MarkupClassification/test_dataset/train_part/freedom-news.ru_144.json\n"
     ]
    },
    {
     "name": "stderr",
     "output_type": "stream",
     "text": [
      "  8%|▊         | 155/1980 [00:58<04:57,  6.14it/s]"
     ]
    },
    {
     "name": "stdout",
     "output_type": "stream",
     "text": [
      "/home/ubuntu/Documents/MarkupClassification/test_dataset/train_part/qostanay.tv_30.json\n",
      "/home/ubuntu/Documents/MarkupClassification/test_dataset/train_part/news-bash.ru_17.json\n"
     ]
    },
    {
     "name": "stderr",
     "output_type": "stream",
     "text": [
      "  8%|▊         | 156/1980 [00:58<04:30,  6.75it/s]"
     ]
    },
    {
     "name": "stdout",
     "output_type": "stream",
     "text": [
      "/home/ubuntu/Documents/MarkupClassification/test_dataset/train_part/gazeta.a42.ru_16.json\n"
     ]
    },
    {
     "name": "stderr",
     "output_type": "stream",
     "text": [
      "  8%|▊         | 158/1980 [00:58<05:50,  5.20it/s]"
     ]
    },
    {
     "name": "stdout",
     "output_type": "stream",
     "text": [
      "/home/ubuntu/Documents/MarkupClassification/test_dataset/train_part/www.osnmedia.ru_18.json\n",
      "/home/ubuntu/Documents/MarkupClassification/test_dataset/train_part/agryz-rt.ru_9.json\n"
     ]
    },
    {
     "name": "stderr",
     "output_type": "stream",
     "text": [
      "  8%|▊         | 159/1980 [00:59<05:48,  5.23it/s]"
     ]
    },
    {
     "name": "stdout",
     "output_type": "stream",
     "text": [
      "/home/ubuntu/Documents/MarkupClassification/test_dataset/train_part/gazeta.a42.ru_40.json\n"
     ]
    },
    {
     "name": "stderr",
     "output_type": "stream",
     "text": [
      "  8%|▊         | 160/1980 [00:59<07:21,  4.12it/s]"
     ]
    },
    {
     "name": "stdout",
     "output_type": "stream",
     "text": [
      "/home/ubuntu/Documents/MarkupClassification/test_dataset/train_part/ya62.ru_103.json\n"
     ]
    },
    {
     "name": "stderr",
     "output_type": "stream",
     "text": [
      "  8%|▊         | 162/1980 [01:01<13:54,  2.18it/s]"
     ]
    },
    {
     "name": "stdout",
     "output_type": "stream",
     "text": [
      "/home/ubuntu/Documents/MarkupClassification/test_dataset/train_part/www.bashinform.ru_1.json\n",
      "/home/ubuntu/Documents/MarkupClassification/test_dataset/train_part/leninogorsk-rt.ru_29.json\n"
     ]
    },
    {
     "name": "stderr",
     "output_type": "stream",
     "text": [
      "  8%|▊         | 163/1980 [01:01<13:56,  2.17it/s]"
     ]
    },
    {
     "name": "stdout",
     "output_type": "stream",
     "text": [
      "/home/ubuntu/Documents/MarkupClassification/test_dataset/train_part/gorodkovrov.ru_4.json\n"
     ]
    },
    {
     "name": "stderr",
     "output_type": "stream",
     "text": [
      "  8%|▊         | 164/1980 [01:01<12:20,  2.45it/s]"
     ]
    },
    {
     "name": "stdout",
     "output_type": "stream",
     "text": [
      "/home/ubuntu/Documents/MarkupClassification/test_dataset/train_part/citysakh.ru_7.json\n"
     ]
    },
    {
     "name": "stderr",
     "output_type": "stream",
     "text": [
      "  8%|▊         | 165/1980 [01:02<10:42,  2.82it/s]"
     ]
    },
    {
     "name": "stdout",
     "output_type": "stream",
     "text": [
      "/home/ubuntu/Documents/MarkupClassification/test_dataset/train_part/gazeta-vp.ru_30.json\n"
     ]
    },
    {
     "name": "stderr",
     "output_type": "stream",
     "text": [
      "  8%|▊         | 166/1980 [01:02<09:51,  3.07it/s]"
     ]
    },
    {
     "name": "stdout",
     "output_type": "stream",
     "text": [
      "/home/ubuntu/Documents/MarkupClassification/test_dataset/train_part/sdelanounas.ru_29.json\n"
     ]
    },
    {
     "name": "stderr",
     "output_type": "stream",
     "text": [
      "  8%|▊         | 168/1980 [01:03<10:13,  2.95it/s]"
     ]
    },
    {
     "name": "stdout",
     "output_type": "stream",
     "text": [
      "/home/ubuntu/Documents/MarkupClassification/test_dataset/train_part/ufa-town.ru_41.json\n",
      "/home/ubuntu/Documents/MarkupClassification/test_dataset/train_part/ctnews.ru_15.json\n"
     ]
    },
    {
     "name": "stderr",
     "output_type": "stream",
     "text": [
      "  9%|▊         | 169/1980 [01:03<08:16,  3.65it/s]"
     ]
    },
    {
     "name": "stdout",
     "output_type": "stream",
     "text": [
      "/home/ubuntu/Documents/MarkupClassification/test_dataset/train_part/www.smolensk2.ru_16.json\n"
     ]
    },
    {
     "name": "stderr",
     "output_type": "stream",
     "text": [
      "  9%|▊         | 171/1980 [01:03<08:25,  3.58it/s]"
     ]
    },
    {
     "name": "stdout",
     "output_type": "stream",
     "text": [
      "/home/ubuntu/Documents/MarkupClassification/test_dataset/train_part/vz.ru_98.json\n",
      "/home/ubuntu/Documents/MarkupClassification/test_dataset/train_part/rk.karelia.ru_183.json\n"
     ]
    },
    {
     "name": "stderr",
     "output_type": "stream",
     "text": [
      "  9%|▊         | 173/1980 [01:04<06:54,  4.36it/s]"
     ]
    },
    {
     "name": "stdout",
     "output_type": "stream",
     "text": [
      "/home/ubuntu/Documents/MarkupClassification/test_dataset/train_part/tkgorod.ru_224.json\n",
      "/home/ubuntu/Documents/MarkupClassification/test_dataset/train_part/vrn.aif.ru_134.json\n"
     ]
    },
    {
     "name": "stderr",
     "output_type": "stream",
     "text": [
      "  9%|▉         | 175/1980 [01:04<06:55,  4.35it/s]"
     ]
    },
    {
     "name": "stdout",
     "output_type": "stream",
     "text": [
      "/home/ubuntu/Documents/MarkupClassification/test_dataset/train_part/progorodsamara.ru_36.json\n",
      "/home/ubuntu/Documents/MarkupClassification/test_dataset/train_part/altai.aif.ru_38.json\n"
     ]
    },
    {
     "name": "stderr",
     "output_type": "stream",
     "text": [
      "  9%|▉         | 176/1980 [01:05<07:30,  4.00it/s]"
     ]
    },
    {
     "name": "stdout",
     "output_type": "stream",
     "text": [
      "/home/ubuntu/Documents/MarkupClassification/test_dataset/train_part/sdelanounas.ru_15.json\n"
     ]
    },
    {
     "name": "stderr",
     "output_type": "stream",
     "text": [
      "  9%|▉         | 177/1980 [01:05<10:29,  2.86it/s]"
     ]
    },
    {
     "name": "stdout",
     "output_type": "stream",
     "text": [
      "/home/ubuntu/Documents/MarkupClassification/test_dataset/train_part/moe-online.ru_10.json\n"
     ]
    },
    {
     "name": "stderr",
     "output_type": "stream",
     "text": [
      "  9%|▉         | 178/1980 [01:06<11:54,  2.52it/s]"
     ]
    },
    {
     "name": "stdout",
     "output_type": "stream",
     "text": [
      "/home/ubuntu/Documents/MarkupClassification/test_dataset/train_part/togliatti24.ru_14.json\n"
     ]
    },
    {
     "name": "stderr",
     "output_type": "stream",
     "text": [
      "  9%|▉         | 181/1980 [01:06<07:17,  4.12it/s]"
     ]
    },
    {
     "name": "stdout",
     "output_type": "stream",
     "text": [
      "/home/ubuntu/Documents/MarkupClassification/test_dataset/train_part/svetput.ru_15.json\n",
      "/home/ubuntu/Documents/MarkupClassification/test_dataset/train_part/svetput.ru_169.json\n",
      "/home/ubuntu/Documents/MarkupClassification/test_dataset/train_part/piter98.ru_52.json\n"
     ]
    },
    {
     "name": "stderr",
     "output_type": "stream",
     "text": [
      "  9%|▉         | 183/1980 [01:06<06:03,  4.95it/s]"
     ]
    },
    {
     "name": "stdout",
     "output_type": "stream",
     "text": [
      "/home/ubuntu/Documents/MarkupClassification/test_dataset/train_part/strana-live.ru_1.json\n",
      "/home/ubuntu/Documents/MarkupClassification/test_dataset/train_part/politcentr.ru_29.json\n"
     ]
    },
    {
     "name": "stderr",
     "output_type": "stream",
     "text": [
      "  9%|▉         | 184/1980 [01:07<07:17,  4.11it/s]"
     ]
    },
    {
     "name": "stdout",
     "output_type": "stream",
     "text": [
      "/home/ubuntu/Documents/MarkupClassification/test_dataset/train_part/russian.rt.com_14.json\n"
     ]
    },
    {
     "name": "stderr",
     "output_type": "stream",
     "text": [
      "  9%|▉         | 185/1980 [01:07<07:00,  4.26it/s]"
     ]
    },
    {
     "name": "stdout",
     "output_type": "stream",
     "text": [
      "/home/ubuntu/Documents/MarkupClassification/test_dataset/train_part/russian.rt.com_14.json\n",
      "/home/ubuntu/Documents/MarkupClassification/test_dataset/train_part/www.province.ru_24.json\n"
     ]
    },
    {
     "name": "stderr",
     "output_type": "stream",
     "text": [
      "  9%|▉         | 186/1980 [01:07<09:04,  3.29it/s]"
     ]
    },
    {
     "name": "stdout",
     "output_type": "stream",
     "text": [
      "/home/ubuntu/Documents/MarkupClassification/test_dataset/train_part/www.gtrk-vyatka.ru_320.json\n"
     ]
    },
    {
     "name": "stderr",
     "output_type": "stream",
     "text": [
      "  9%|▉         | 187/1980 [01:08<10:35,  2.82it/s]"
     ]
    },
    {
     "name": "stdout",
     "output_type": "stream",
     "text": [
      "/home/ubuntu/Documents/MarkupClassification/test_dataset/train_part/www.smolensk2.ru_143.json\n"
     ]
    },
    {
     "name": "stderr",
     "output_type": "stream",
     "text": [
      "  9%|▉         | 188/1980 [01:08<11:03,  2.70it/s]"
     ]
    },
    {
     "name": "stdout",
     "output_type": "stream",
     "text": [
      "/home/ubuntu/Documents/MarkupClassification/test_dataset/train_part/161.ru_33.json\n"
     ]
    },
    {
     "name": "stderr",
     "output_type": "stream",
     "text": [
      " 10%|▉         | 189/1980 [01:09<13:27,  2.22it/s]"
     ]
    },
    {
     "name": "stdout",
     "output_type": "stream",
     "text": [
      "/home/ubuntu/Documents/MarkupClassification/test_dataset/train_part/gorodkovrov.ru_66.json\n"
     ]
    },
    {
     "name": "stderr",
     "output_type": "stream",
     "text": [
      " 10%|▉         | 190/1980 [01:09<11:21,  2.63it/s]"
     ]
    },
    {
     "name": "stdout",
     "output_type": "stream",
     "text": [
      "/home/ubuntu/Documents/MarkupClassification/test_dataset/train_part/tv-gubernia.ru_150.json\n"
     ]
    },
    {
     "name": "stderr",
     "output_type": "stream",
     "text": [
      " 10%|▉         | 192/1980 [01:10<08:40,  3.43it/s]"
     ]
    },
    {
     "name": "stdout",
     "output_type": "stream",
     "text": [
      "/home/ubuntu/Documents/MarkupClassification/test_dataset/train_part/pronedra.ru_15.json\n",
      "/home/ubuntu/Documents/MarkupClassification/test_dataset/train_part/svetput.ru_65.json\n"
     ]
    },
    {
     "name": "stderr",
     "output_type": "stream",
     "text": [
      " 10%|▉         | 193/1980 [01:10<07:00,  4.24it/s]"
     ]
    },
    {
     "name": "stdout",
     "output_type": "stream",
     "text": [
      "/home/ubuntu/Documents/MarkupClassification/test_dataset/train_part/primamedia.ru_176.json\n"
     ]
    },
    {
     "name": "stderr",
     "output_type": "stream",
     "text": [
      " 10%|▉         | 194/1980 [01:10<09:20,  3.19it/s]"
     ]
    },
    {
     "name": "stdout",
     "output_type": "stream",
     "text": [
      "/home/ubuntu/Documents/MarkupClassification/test_dataset/train_part/tvernews.ru_26.json\n"
     ]
    },
    {
     "name": "stderr",
     "output_type": "stream",
     "text": [
      " 10%|▉         | 195/1980 [01:11<09:03,  3.28it/s]"
     ]
    },
    {
     "name": "stdout",
     "output_type": "stream",
     "text": [
      "/home/ubuntu/Documents/MarkupClassification/test_dataset/train_part/www.amic.ru_38.json\n"
     ]
    },
    {
     "name": "stderr",
     "output_type": "stream",
     "text": [
      " 10%|▉         | 197/1980 [01:11<07:40,  3.87it/s]"
     ]
    },
    {
     "name": "stdout",
     "output_type": "stream",
     "text": [
      "/home/ubuntu/Documents/MarkupClassification/test_dataset/train_part/mybashkortostan.ru_0.json\n",
      "/home/ubuntu/Documents/MarkupClassification/test_dataset/train_part/gazeta.a42.ru_7.json\n"
     ]
    },
    {
     "name": "stderr",
     "output_type": "stream",
     "text": [
      " 10%|█         | 198/1980 [01:11<08:36,  3.45it/s]"
     ]
    },
    {
     "name": "stdout",
     "output_type": "stream",
     "text": [
      "/home/ubuntu/Documents/MarkupClassification/test_dataset/train_part/elabuga-rt.ru_6.json\n"
     ]
    },
    {
     "name": "stderr",
     "output_type": "stream",
     "text": [
      " 10%|█         | 199/1980 [01:12<08:03,  3.68it/s]"
     ]
    },
    {
     "name": "stdout",
     "output_type": "stream",
     "text": [
      "/home/ubuntu/Documents/MarkupClassification/test_dataset/train_part/vz.ru_96.json\n"
     ]
    },
    {
     "name": "stderr",
     "output_type": "stream",
     "text": [
      " 10%|█         | 200/1980 [01:12<08:00,  3.71it/s]"
     ]
    },
    {
     "name": "stdout",
     "output_type": "stream",
     "text": [
      "/home/ubuntu/Documents/MarkupClassification/test_dataset/train_part/tmn.aif.ru_185.json\n"
     ]
    },
    {
     "name": "stderr",
     "output_type": "stream",
     "text": [
      " 10%|█         | 201/1980 [01:12<07:49,  3.79it/s]"
     ]
    },
    {
     "name": "stdout",
     "output_type": "stream",
     "text": [
      "/home/ubuntu/Documents/MarkupClassification/test_dataset/train_part/rzn.mk.ru_28.json\n"
     ]
    },
    {
     "name": "stderr",
     "output_type": "stream",
     "text": [
      " 10%|█         | 202/1980 [01:13<14:07,  2.10it/s]"
     ]
    },
    {
     "name": "stdout",
     "output_type": "stream",
     "text": [
      "/home/ubuntu/Documents/MarkupClassification/test_dataset/train_part/politcentr.ru_135.json\n"
     ]
    },
    {
     "name": "stderr",
     "output_type": "stream",
     "text": [
      " 10%|█         | 204/1980 [01:14<10:08,  2.92it/s]"
     ]
    },
    {
     "name": "stdout",
     "output_type": "stream",
     "text": [
      "/home/ubuntu/Documents/MarkupClassification/test_dataset/train_part/voshodnews.ru_34.json\n",
      "/home/ubuntu/Documents/MarkupClassification/test_dataset/train_part/www.gorno-altaisk.info_18.json\n"
     ]
    },
    {
     "name": "stderr",
     "output_type": "stream",
     "text": [
      " 10%|█         | 205/1980 [01:14<09:10,  3.22it/s]"
     ]
    },
    {
     "name": "stdout",
     "output_type": "stream",
     "text": [
      "/home/ubuntu/Documents/MarkupClassification/test_dataset/train_part/mybashkortostan.ru_12.json\n"
     ]
    },
    {
     "name": "stderr",
     "output_type": "stream",
     "text": [
      " 10%|█         | 206/1980 [01:14<09:38,  3.07it/s]"
     ]
    },
    {
     "name": "stdout",
     "output_type": "stream",
     "text": [
      "/home/ubuntu/Documents/MarkupClassification/test_dataset/train_part/nash-krai.ru_190.json\n"
     ]
    },
    {
     "name": "stderr",
     "output_type": "stream",
     "text": [
      " 10%|█         | 207/1980 [01:15<10:31,  2.81it/s]"
     ]
    },
    {
     "name": "stdout",
     "output_type": "stream",
     "text": [
      "/home/ubuntu/Documents/MarkupClassification/test_dataset/train_part/chuprale-online.ru_30.json\n"
     ]
    },
    {
     "name": "stderr",
     "output_type": "stream",
     "text": [
      " 11%|█         | 208/1980 [01:15<09:13,  3.20it/s]"
     ]
    },
    {
     "name": "stdout",
     "output_type": "stream",
     "text": [
      "/home/ubuntu/Documents/MarkupClassification/test_dataset/train_part/askino.info_48.json\n",
      "/home/ubuntu/Documents/MarkupClassification/test_dataset/train_part/rusvesna.su_42.json\n"
     ]
    },
    {
     "name": "stderr",
     "output_type": "stream",
     "text": [
      " 11%|█         | 210/1980 [01:15<08:59,  3.28it/s]"
     ]
    },
    {
     "name": "stdout",
     "output_type": "stream",
     "text": [
      "/home/ubuntu/Documents/MarkupClassification/test_dataset/train_part/ku66.ru_12.json\n"
     ]
    },
    {
     "name": "stderr",
     "output_type": "stream",
     "text": [
      " 11%|█         | 212/1980 [01:16<08:45,  3.37it/s]"
     ]
    },
    {
     "name": "stdout",
     "output_type": "stream",
     "text": [
      "/home/ubuntu/Documents/MarkupClassification/test_dataset/train_part/gorodkirov.ru_18.json\n",
      "/home/ubuntu/Documents/MarkupClassification/test_dataset/train_part/gazeta.a42.ru_17.json\n"
     ]
    },
    {
     "name": "stderr",
     "output_type": "stream",
     "text": [
      " 11%|█         | 213/1980 [01:16<09:10,  3.21it/s]"
     ]
    },
    {
     "name": "stdout",
     "output_type": "stream",
     "text": [
      "/home/ubuntu/Documents/MarkupClassification/test_dataset/train_part/freedom-news.ru_183.json\n"
     ]
    },
    {
     "name": "stderr",
     "output_type": "stream",
     "text": [
      " 11%|█         | 214/1980 [01:17<08:34,  3.43it/s]"
     ]
    },
    {
     "name": "stdout",
     "output_type": "stream",
     "text": [
      "/home/ubuntu/Documents/MarkupClassification/test_dataset/train_part/tmn.aif.ru_0.json\n"
     ]
    },
    {
     "name": "stderr",
     "output_type": "stream",
     "text": [
      " 11%|█         | 216/1980 [01:17<07:00,  4.20it/s]"
     ]
    },
    {
     "name": "stdout",
     "output_type": "stream",
     "text": [
      "/home/ubuntu/Documents/MarkupClassification/test_dataset/train_part/kaltasy-zarya.ru_17.json\n",
      "/home/ubuntu/Documents/MarkupClassification/test_dataset/train_part/gorodglazov.com_9.json\n"
     ]
    },
    {
     "name": "stderr",
     "output_type": "stream",
     "text": [
      " 11%|█         | 217/1980 [01:17<07:34,  3.88it/s]"
     ]
    },
    {
     "name": "stdout",
     "output_type": "stream",
     "text": [
      "/home/ubuntu/Documents/MarkupClassification/test_dataset/train_part/v102.ru_66.json\n"
     ]
    },
    {
     "name": "stderr",
     "output_type": "stream",
     "text": [
      " 11%|█         | 218/1980 [01:18<10:29,  2.80it/s]"
     ]
    },
    {
     "name": "stdout",
     "output_type": "stream",
     "text": [
      "/home/ubuntu/Documents/MarkupClassification/test_dataset/train_part/www.gtrk-vyatka.ru_44.json\n"
     ]
    },
    {
     "name": "stderr",
     "output_type": "stream",
     "text": [
      " 11%|█         | 220/1980 [01:18<09:16,  3.17it/s]"
     ]
    },
    {
     "name": "stdout",
     "output_type": "stream",
     "text": [
      "/home/ubuntu/Documents/MarkupClassification/test_dataset/train_part/www.gorno-altaisk.info_24.json\n",
      "/home/ubuntu/Documents/MarkupClassification/test_dataset/train_part/rusvesna.su_0.json\n"
     ]
    },
    {
     "name": "stderr",
     "output_type": "stream",
     "text": [
      " 11%|█         | 222/1980 [01:19<08:28,  3.46it/s]"
     ]
    },
    {
     "name": "stdout",
     "output_type": "stream",
     "text": [
      "/home/ubuntu/Documents/MarkupClassification/test_dataset/train_part/chuprale-online.ru_21.json\n",
      "/home/ubuntu/Documents/MarkupClassification/test_dataset/train_part/perm.aif.ru_67.json\n"
     ]
    },
    {
     "name": "stderr",
     "output_type": "stream",
     "text": [
      " 11%|█▏        | 223/1980 [01:19<08:04,  3.63it/s]"
     ]
    },
    {
     "name": "stdout",
     "output_type": "stream",
     "text": [
      "/home/ubuntu/Documents/MarkupClassification/test_dataset/train_part/www.rbc.ru_20.json\n"
     ]
    },
    {
     "name": "stderr",
     "output_type": "stream",
     "text": [
      " 11%|█▏        | 224/1980 [01:20<11:08,  2.63it/s]"
     ]
    },
    {
     "name": "stdout",
     "output_type": "stream",
     "text": [
      "/home/ubuntu/Documents/MarkupClassification/test_dataset/train_part/svetput.ru_207.json\n",
      "/home/ubuntu/Documents/MarkupClassification/test_dataset/train_part/kem-live.ru_38.json\n"
     ]
    },
    {
     "name": "stderr",
     "output_type": "stream",
     "text": [
      " 11%|█▏        | 227/1980 [01:20<07:03,  4.14it/s]"
     ]
    },
    {
     "name": "stdout",
     "output_type": "stream",
     "text": [
      "/home/ubuntu/Documents/MarkupClassification/test_dataset/train_part/bavly-tat.ru_0.json\n",
      "/home/ubuntu/Documents/MarkupClassification/test_dataset/train_part/7info.ru_103.json\n"
     ]
    },
    {
     "name": "stderr",
     "output_type": "stream",
     "text": [
      " 12%|█▏        | 229/1980 [01:21<07:01,  4.15it/s]"
     ]
    },
    {
     "name": "stdout",
     "output_type": "stream",
     "text": [
      "/home/ubuntu/Documents/MarkupClassification/test_dataset/train_part/tkgorod.ru_244.json\n",
      "/home/ubuntu/Documents/MarkupClassification/test_dataset/train_part/perm.aif.ru_207.json\n"
     ]
    },
    {
     "name": "stderr",
     "output_type": "stream",
     "text": [
      " 12%|█▏        | 231/1980 [01:21<06:18,  4.62it/s]"
     ]
    },
    {
     "name": "stdout",
     "output_type": "stream",
     "text": [
      "/home/ubuntu/Documents/MarkupClassification/test_dataset/train_part/togliatti24.ru_31.json\n",
      "/home/ubuntu/Documents/MarkupClassification/test_dataset/train_part/rk.karelia.ru_182.json\n"
     ]
    },
    {
     "name": "stderr",
     "output_type": "stream",
     "text": [
      " 12%|█▏        | 232/1980 [01:21<06:24,  4.55it/s]"
     ]
    },
    {
     "name": "stdout",
     "output_type": "stream",
     "text": [
      "/home/ubuntu/Documents/MarkupClassification/test_dataset/train_part/www.vesti.ru_47.json\n"
     ]
    },
    {
     "name": "stderr",
     "output_type": "stream",
     "text": [
      " 12%|█▏        | 233/1980 [01:22<06:34,  4.43it/s]"
     ]
    },
    {
     "name": "stdout",
     "output_type": "stream",
     "text": [
      "/home/ubuntu/Documents/MarkupClassification/test_dataset/train_part/www.e1.ru_297.json\n"
     ]
    },
    {
     "name": "stderr",
     "output_type": "stream",
     "text": [
      " 12%|█▏        | 235/1980 [01:23<08:48,  3.30it/s]"
     ]
    },
    {
     "name": "stdout",
     "output_type": "stream",
     "text": [
      "/home/ubuntu/Documents/MarkupClassification/test_dataset/train_part/strana-live.ru_131.json\n",
      "/home/ubuntu/Documents/MarkupClassification/test_dataset/train_part/orenday.ru_2.json\n"
     ]
    },
    {
     "name": "stderr",
     "output_type": "stream",
     "text": [
      " 12%|█▏        | 236/1980 [01:23<09:22,  3.10it/s]"
     ]
    },
    {
     "name": "stdout",
     "output_type": "stream",
     "text": [
      "/home/ubuntu/Documents/MarkupClassification/test_dataset/train_part/a24.press_178.json\n",
      "/home/ubuntu/Documents/MarkupClassification/test_dataset/train_part/perm.aif.ru_167.json\n"
     ]
    },
    {
     "name": "stderr",
     "output_type": "stream",
     "text": [
      " 12%|█▏        | 238/1980 [01:23<08:43,  3.33it/s]"
     ]
    },
    {
     "name": "stdout",
     "output_type": "stream",
     "text": [
      "/home/ubuntu/Documents/MarkupClassification/test_dataset/train_part/primamedia.ru_11.json\n"
     ]
    },
    {
     "name": "stderr",
     "output_type": "stream",
     "text": [
      " 12%|█▏        | 239/1980 [01:24<08:43,  3.32it/s]"
     ]
    },
    {
     "name": "stdout",
     "output_type": "stream",
     "text": [
      "/home/ubuntu/Documents/MarkupClassification/test_dataset/train_part/perm.aif.ru_114.json\n"
     ]
    },
    {
     "name": "stderr",
     "output_type": "stream",
     "text": [
      " 12%|█▏        | 240/1980 [01:24<08:43,  3.33it/s]"
     ]
    },
    {
     "name": "stdout",
     "output_type": "stream",
     "text": [
      "/home/ubuntu/Documents/MarkupClassification/test_dataset/train_part/ulan.mk.ru_31.json\n"
     ]
    },
    {
     "name": "stderr",
     "output_type": "stream",
     "text": [
      " 12%|█▏        | 241/1980 [01:25<13:29,  2.15it/s]"
     ]
    },
    {
     "name": "stdout",
     "output_type": "stream",
     "text": [
      "/home/ubuntu/Documents/MarkupClassification/test_dataset/train_part/www.m24.ru_243.json\n"
     ]
    },
    {
     "name": "stderr",
     "output_type": "stream",
     "text": [
      " 12%|█▏        | 242/1980 [01:25<13:01,  2.22it/s]"
     ]
    },
    {
     "name": "stdout",
     "output_type": "stream",
     "text": [
      "/home/ubuntu/Documents/MarkupClassification/test_dataset/train_part/gorodkovrov.ru_69.json\n"
     ]
    },
    {
     "name": "stderr",
     "output_type": "stream",
     "text": [
      " 12%|█▏        | 244/1980 [01:26<09:18,  3.11it/s]"
     ]
    },
    {
     "name": "stdout",
     "output_type": "stream",
     "text": [
      "/home/ubuntu/Documents/MarkupClassification/test_dataset/train_part/kaluganews.com_38.json\n",
      "/home/ubuntu/Documents/MarkupClassification/test_dataset/train_part/www.newsler.ru_54.json\n"
     ]
    },
    {
     "name": "stderr",
     "output_type": "stream",
     "text": [
      " 12%|█▏        | 245/1980 [01:26<09:20,  3.10it/s]"
     ]
    },
    {
     "name": "stdout",
     "output_type": "stream",
     "text": [
      "/home/ubuntu/Documents/MarkupClassification/test_dataset/train_part/gazeta.a42.ru_6.json\n"
     ]
    }
   ],
   "source": [
    "train_data = load_from_folder(\"test_dataset/train_part\")\n",
    "valid_data = load_from_folder(\"test_dataset/test_part\")"
   ]
  },
  {
   "cell_type": "code",
   "execution_count": null,
   "metadata": {},
   "outputs": [],
   "source": [
    "print(\"Train size : \", len(train_data))\n",
    "print(\"Test size : \", len(valid_data))\n",
    "print(\"Train proportion : \", (len(valid_data) + len(train_data)) / len(train_data))"
   ]
  },
  {
   "cell_type": "code",
   "execution_count": null,
   "metadata": {},
   "outputs": [],
   "source": [
    "idx = 0\n",
    "for node, label in zip(valid_data[idx]['nodes'][0], valid_data[idx]['node_labels'][0]):\n",
    "  if id2label[label] != 'OTHER':\n",
    "    print(node, id2label[label])\n",
    "     "
   ]
  },
  {
   "cell_type": "markdown",
   "metadata": {},
   "source": [
    "# Инициалиация датасета"
   ]
  },
  {
   "cell_type": "code",
   "execution_count": null,
   "metadata": {},
   "outputs": [],
   "source": [
    "class MarkupLMDataset(Dataset):\n",
    "    \"\"\"Dataset for token classification with MarkupLM.\"\"\"\n",
    "\n",
    "    def __init__(self, data, processor=None):\n",
    "        self.data = data\n",
    "        self.processor = processor\n",
    "\n",
    "    def __len__(self):\n",
    "        return len(self.data)\n",
    "\n",
    "    def __getitem__(self, idx):\n",
    "        # first, get nodes, xpaths and node labels\n",
    "        item = self.data[idx]\n",
    "        nodes, xpaths, node_labels = item['nodes'], item['xpaths'], item['node_labels']\n",
    "\n",
    "        # provide to processor\n",
    "        encoding = self.processor(nodes=nodes, xpaths=xpaths, node_labels=node_labels, padding=\"max_length\", truncation=True, return_tensors=\"pt\")\n",
    "\n",
    "        # remove batch dimension\n",
    "        encoding = {k: v.squeeze() for k, v in encoding.items()}\n",
    "\n",
    "        return encoding"
   ]
  },
  {
   "cell_type": "code",
   "execution_count": null,
   "metadata": {},
   "outputs": [],
   "source": [
    "processor = MarkupLMProcessor.from_pretrained(\"microsoft/markuplm-base\", truncation = True)\n",
    "processor.parse_html = False\n",
    "\n",
    "train_set = MarkupLMDataset(data=train_data, processor=processor)\n",
    "valid_set = MarkupLMDataset(data=valid_data, processor=processor)"
   ]
  },
  {
   "cell_type": "code",
   "execution_count": null,
   "metadata": {},
   "outputs": [],
   "source": [
    "example = valid_set[0]\n",
    "for k,v in example.items():\n",
    "  print(k,v.shape)"
   ]
  },
  {
   "cell_type": "code",
   "execution_count": null,
   "metadata": {},
   "outputs": [],
   "source": [
    "processor.decode(example['input_ids'])"
   ]
  },
  {
   "cell_type": "code",
   "execution_count": null,
   "metadata": {},
   "outputs": [],
   "source": [
    "for id, label in zip(example['input_ids'].tolist(), example['labels'].tolist()):\n",
    "    # if label != -100:\n",
    "    #     print(processor.decode([id]), label)\n",
    "    if label == 1:\n",
    "        print(processor.decode([id]), label)"
   ]
  },
  {
   "cell_type": "code",
   "execution_count": null,
   "metadata": {},
   "outputs": [],
   "source": [
    "train_dataloader = DataLoader(train_set, batch_size=3, shuffle=True)\n",
    "valid_dataloader = DataLoader(valid_set, batch_size=3, shuffle=True)"
   ]
  },
  {
   "cell_type": "code",
   "execution_count": null,
   "metadata": {},
   "outputs": [],
   "source": [
    "model = MarkupLMForTokenClassification.from_pretrained(\"microsoft/markuplm-base\", id2label=id2label, label2id=label2id)"
   ]
  },
  {
   "cell_type": "code",
   "execution_count": null,
   "metadata": {},
   "outputs": [],
   "source": [
    "label_list = [\"B-\" + x for x in list(id2label.values())]"
   ]
  },
  {
   "cell_type": "code",
   "execution_count": null,
   "metadata": {},
   "outputs": [],
   "source": [
    "import evaluate\n",
    "\n",
    "# Metric\n",
    "metric = evaluate.load(\"seqeval\")\n",
    "\n",
    "def get_labels(predictions, references):\n",
    "    # Transform predictions and references tensos to numpy arrays\n",
    "    if device.type == \"cpu\":\n",
    "        y_pred = predictions.detach().clone().numpy()\n",
    "        y_true = references.detach().clone().numpy()\n",
    "    else:\n",
    "        y_pred = predictions.detach().cpu().clone().numpy()\n",
    "        y_true = references.detach().cpu().clone().numpy()\n",
    "\n",
    "    # Remove ignored index (special tokens)\n",
    "    true_predictions = [\n",
    "        [label_list[p] for (p, l) in zip(pred, gold_label) if l != -100]\n",
    "        for pred, gold_label in zip(y_pred, y_true)\n",
    "    ]\n",
    "    true_labels = [\n",
    "        [label_list[l] for (p, l) in zip(pred, gold_label) if l != -100]\n",
    "        for pred, gold_label in zip(y_pred, y_true)\n",
    "    ]\n",
    "    return true_predictions, true_labels\n",
    "\n",
    "def compute_metrics(metric, return_entity_level_metrics=True):\n",
    "    results = metric.compute()\n",
    "    if return_entity_level_metrics:\n",
    "        # Unpack nested dictionaries\n",
    "        final_results = {}\n",
    "        for key, value in results.items():\n",
    "            if isinstance(value, dict):\n",
    "                for n, v in value.items():\n",
    "                    final_results[f\"{key}_{n}\"] = v\n",
    "            else:\n",
    "                final_results[key] = value\n",
    "        return final_results\n",
    "    else:\n",
    "        return {\n",
    "            \"precision\": results[\"overall_precision\"],\n",
    "            \"recall\": results[\"overall_recall\"],\n",
    "            \"f1\": results[\"overall_f1\"],\n",
    "            \"accuracy\": results[\"overall_accuracy\"],\n",
    "        }"
   ]
  },
  {
   "cell_type": "markdown",
   "metadata": {},
   "source": [
    "# TRAIN"
   ]
  },
  {
   "cell_type": "code",
   "execution_count": null,
   "metadata": {},
   "outputs": [],
   "source": [
    "import torch\n",
    "from torch.optim import AdamW\n",
    "from tqdm.auto import tqdm\n",
    "from sklearn.metrics import classification_report, f1_score\n",
    "\n",
    "optimizer = AdamW(model.parameters(), lr=2e-5)\n",
    "\n",
    "device = torch.device(\"cuda\" if torch.cuda.is_available() else \"cpu\")\n",
    "\n",
    "model.to(device)\n",
    "\n",
    "model.train()\n",
    "print(device)\n",
    "for epoch in range(10):\n",
    "    for batch in tqdm(train_dataloader):\n",
    "        # get the inputs;\n",
    "        inputs = {k:v.to(device) for k,v in batch.items()}\n",
    "\n",
    "        # zero the parameter gradients\n",
    "        optimizer.zero_grad()\n",
    "\n",
    "        # forward + backward + optimize\n",
    "        outputs = model(**inputs)\n",
    "\n",
    "        loss = outputs.loss\n",
    "        loss.backward()\n",
    "        optimizer.step()\n",
    "\n",
    "        # print(\"Loss:\", loss.item())\n",
    "\n",
    "        predictions = outputs.logits.argmax(dim=-1)\n",
    "        labels = batch[\"labels\"]\n",
    "        preds, refs = get_labels(predictions, labels)\n",
    "        metric.add_batch(\n",
    "            predictions=preds,\n",
    "            references=refs,\n",
    "        )\n",
    "\n",
    "    train_metric = compute_metrics(metric)\n",
    "    print(f\"Epoch {epoch}:\", train_metric)\n",
    "      \n"
   ]
  },
  {
   "cell_type": "markdown",
   "metadata": {},
   "source": [
    "# TEST"
   ]
  },
  {
   "cell_type": "code",
   "execution_count": null,
   "metadata": {},
   "outputs": [],
   "source": [
    "model.eval()\n",
    "print(device)\n",
    "\n",
    "test_metric = evaluate.load(\"seqeval\")\n",
    "\n",
    "for batch in tqdm(valid_dataloader):\n",
    "    # get the inputs;\n",
    "    inputs = {k:v.to(device) for k,v in batch.items()}\n",
    "\n",
    "    with torch.no_grad():\n",
    "        outputs = model(**inputs)\n",
    "\n",
    "    predictions = outputs.logits.argmax(dim=-1)\n",
    "    labels = batch[\"labels\"]\n",
    "    preds, refs = get_labels(predictions, labels)\n",
    "    test_metric.add_batch(\n",
    "        predictions=preds,\n",
    "        references=refs,\n",
    "    )\n",
    "\n",
    "eval_metric = compute_metrics(test_metric)\n",
    "print(\"TESTING RESULT :\", eval_metric)"
   ]
  }
 ],
 "metadata": {
  "kernelspec": {
   "display_name": "markup-segmentation-03k7_eFX-py3.9",
   "language": "python",
   "name": "python3"
  },
  "language_info": {
   "codemirror_mode": {
    "name": "ipython",
    "version": 3
   },
   "file_extension": ".py",
   "mimetype": "text/x-python",
   "name": "python",
   "nbconvert_exporter": "python",
   "pygments_lexer": "ipython3",
   "version": "3.9.16"
  }
 },
 "nbformat": 4,
 "nbformat_minor": 2
}
